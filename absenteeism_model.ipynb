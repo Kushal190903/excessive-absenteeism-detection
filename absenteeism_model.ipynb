{
 "cells": [
  {
   "cell_type": "markdown",
   "metadata": {},
   "source": [
    "                                                    CLASSIFICATION IN MACHINE LEARNING USING\n",
    "                                                    i)logistic regression(sklearn)\n",
    "                                                    ii)neural network\n",
    "                                                    iii)random forest classifier\n",
    "                                                    "
   ]
  },
  {
   "cell_type": "markdown",
   "metadata": {},
   "source": [
    "IMPORTING RELEVANT LIBRARIES"
   ]
  },
  {
   "cell_type": "code",
   "execution_count": 6,
   "metadata": {},
   "outputs": [],
   "source": [
    "import numpy as np\n",
    "import pandas as pd\n",
    "from sklearn.preprocessing import StandardScaler\n",
    "from sklearn.model_selection import train_test_split \n",
    "from sklearn.linear_model import LogisticRegression\n",
    "\n",
    "\n"
   ]
  },
  {
   "cell_type": "code",
   "execution_count": 7,
   "metadata": {},
   "outputs": [],
   "source": [
    "df_preprocessed=pd.read_csv(\"Absenteeism_preprocessed.csv\")"
   ]
  },
  {
   "cell_type": "code",
   "execution_count": 5,
   "metadata": {},
   "outputs": [
    {
     "data": {
      "text/html": [
       "<div>\n",
       "<style scoped>\n",
       "    .dataframe tbody tr th:only-of-type {\n",
       "        vertical-align: middle;\n",
       "    }\n",
       "\n",
       "    .dataframe tbody tr th {\n",
       "        vertical-align: top;\n",
       "    }\n",
       "\n",
       "    .dataframe thead th {\n",
       "        text-align: right;\n",
       "    }\n",
       "</style>\n",
       "<table border=\"1\" class=\"dataframe\">\n",
       "  <thead>\n",
       "    <tr style=\"text-align: right;\">\n",
       "      <th></th>\n",
       "      <th>reason1</th>\n",
       "      <th>reason2</th>\n",
       "      <th>reaon3</th>\n",
       "      <th>reason4</th>\n",
       "      <th>month</th>\n",
       "      <th>week_day</th>\n",
       "      <th>Transportation Expense</th>\n",
       "      <th>Distance to Work</th>\n",
       "      <th>Age</th>\n",
       "      <th>Daily Work Load Average</th>\n",
       "      <th>Body Mass Index</th>\n",
       "      <th>Education</th>\n",
       "      <th>Children</th>\n",
       "      <th>Pets</th>\n",
       "      <th>Absenteeism Time in Hours</th>\n",
       "    </tr>\n",
       "  </thead>\n",
       "  <tbody>\n",
       "    <tr>\n",
       "      <th>0</th>\n",
       "      <td>0</td>\n",
       "      <td>0</td>\n",
       "      <td>0</td>\n",
       "      <td>1</td>\n",
       "      <td>7</td>\n",
       "      <td>2</td>\n",
       "      <td>1.006</td>\n",
       "      <td>0.413</td>\n",
       "      <td>-0.536</td>\n",
       "      <td>-0.806</td>\n",
       "      <td>0.767</td>\n",
       "      <td>1</td>\n",
       "      <td>2</td>\n",
       "      <td>1</td>\n",
       "      <td>4</td>\n",
       "    </tr>\n",
       "    <tr>\n",
       "      <th>1</th>\n",
       "      <td>0</td>\n",
       "      <td>0</td>\n",
       "      <td>0</td>\n",
       "      <td>0</td>\n",
       "      <td>7</td>\n",
       "      <td>2</td>\n",
       "      <td>-1.575</td>\n",
       "      <td>-1.142</td>\n",
       "      <td>2.131</td>\n",
       "      <td>-0.806</td>\n",
       "      <td>1.003</td>\n",
       "      <td>1</td>\n",
       "      <td>1</td>\n",
       "      <td>0</td>\n",
       "      <td>0</td>\n",
       "    </tr>\n",
       "    <tr>\n",
       "      <th>2</th>\n",
       "      <td>0</td>\n",
       "      <td>0</td>\n",
       "      <td>0</td>\n",
       "      <td>1</td>\n",
       "      <td>7</td>\n",
       "      <td>3</td>\n",
       "      <td>-0.654</td>\n",
       "      <td>1.427</td>\n",
       "      <td>0.248</td>\n",
       "      <td>-0.806</td>\n",
       "      <td>1.003</td>\n",
       "      <td>1</td>\n",
       "      <td>0</td>\n",
       "      <td>0</td>\n",
       "      <td>2</td>\n",
       "    </tr>\n",
       "    <tr>\n",
       "      <th>3</th>\n",
       "      <td>1</td>\n",
       "      <td>0</td>\n",
       "      <td>0</td>\n",
       "      <td>1</td>\n",
       "      <td>7</td>\n",
       "      <td>4</td>\n",
       "      <td>0.855</td>\n",
       "      <td>-1.683</td>\n",
       "      <td>0.405</td>\n",
       "      <td>-0.806</td>\n",
       "      <td>-0.644</td>\n",
       "      <td>1</td>\n",
       "      <td>2</td>\n",
       "      <td>0</td>\n",
       "      <td>4</td>\n",
       "    </tr>\n",
       "    <tr>\n",
       "      <th>4</th>\n",
       "      <td>0</td>\n",
       "      <td>0</td>\n",
       "      <td>0</td>\n",
       "      <td>1</td>\n",
       "      <td>7</td>\n",
       "      <td>4</td>\n",
       "      <td>1.006</td>\n",
       "      <td>0.413</td>\n",
       "      <td>-0.536</td>\n",
       "      <td>-0.806</td>\n",
       "      <td>0.767</td>\n",
       "      <td>1</td>\n",
       "      <td>2</td>\n",
       "      <td>1</td>\n",
       "      <td>2</td>\n",
       "    </tr>\n",
       "    <tr>\n",
       "      <th>...</th>\n",
       "      <td>...</td>\n",
       "      <td>...</td>\n",
       "      <td>...</td>\n",
       "      <td>...</td>\n",
       "      <td>...</td>\n",
       "      <td>...</td>\n",
       "      <td>...</td>\n",
       "      <td>...</td>\n",
       "      <td>...</td>\n",
       "      <td>...</td>\n",
       "      <td>...</td>\n",
       "      <td>...</td>\n",
       "      <td>...</td>\n",
       "      <td>...</td>\n",
       "      <td>...</td>\n",
       "    </tr>\n",
       "    <tr>\n",
       "      <th>695</th>\n",
       "      <td>1</td>\n",
       "      <td>0</td>\n",
       "      <td>0</td>\n",
       "      <td>1</td>\n",
       "      <td>5</td>\n",
       "      <td>3</td>\n",
       "      <td>-0.654</td>\n",
       "      <td>-0.534</td>\n",
       "      <td>0.562</td>\n",
       "      <td>-0.854</td>\n",
       "      <td>-1.114</td>\n",
       "      <td>0</td>\n",
       "      <td>2</td>\n",
       "      <td>0</td>\n",
       "      <td>8</td>\n",
       "    </tr>\n",
       "    <tr>\n",
       "      <th>696</th>\n",
       "      <td>1</td>\n",
       "      <td>0</td>\n",
       "      <td>0</td>\n",
       "      <td>1</td>\n",
       "      <td>5</td>\n",
       "      <td>3</td>\n",
       "      <td>0.040</td>\n",
       "      <td>-0.263</td>\n",
       "      <td>-1.320</td>\n",
       "      <td>-0.854</td>\n",
       "      <td>-0.644</td>\n",
       "      <td>1</td>\n",
       "      <td>1</td>\n",
       "      <td>2</td>\n",
       "      <td>3</td>\n",
       "    </tr>\n",
       "    <tr>\n",
       "      <th>697</th>\n",
       "      <td>1</td>\n",
       "      <td>0</td>\n",
       "      <td>0</td>\n",
       "      <td>1</td>\n",
       "      <td>5</td>\n",
       "      <td>4</td>\n",
       "      <td>1.625</td>\n",
       "      <td>-0.939</td>\n",
       "      <td>-1.320</td>\n",
       "      <td>-0.854</td>\n",
       "      <td>-0.409</td>\n",
       "      <td>0</td>\n",
       "      <td>0</td>\n",
       "      <td>0</td>\n",
       "      <td>8</td>\n",
       "    </tr>\n",
       "    <tr>\n",
       "      <th>698</th>\n",
       "      <td>0</td>\n",
       "      <td>0</td>\n",
       "      <td>0</td>\n",
       "      <td>1</td>\n",
       "      <td>5</td>\n",
       "      <td>4</td>\n",
       "      <td>0.191</td>\n",
       "      <td>-0.939</td>\n",
       "      <td>-0.693</td>\n",
       "      <td>-0.854</td>\n",
       "      <td>-0.409</td>\n",
       "      <td>0</td>\n",
       "      <td>0</td>\n",
       "      <td>0</td>\n",
       "      <td>2</td>\n",
       "    </tr>\n",
       "    <tr>\n",
       "      <th>699</th>\n",
       "      <td>0</td>\n",
       "      <td>0</td>\n",
       "      <td>0</td>\n",
       "      <td>1</td>\n",
       "      <td>5</td>\n",
       "      <td>4</td>\n",
       "      <td>1.036</td>\n",
       "      <td>0.075</td>\n",
       "      <td>0.562</td>\n",
       "      <td>-0.854</td>\n",
       "      <td>-0.409</td>\n",
       "      <td>1</td>\n",
       "      <td>1</td>\n",
       "      <td>1</td>\n",
       "      <td>2</td>\n",
       "    </tr>\n",
       "  </tbody>\n",
       "</table>\n",
       "<p>700 rows × 15 columns</p>\n",
       "</div>"
      ],
      "text/plain": [
       "     reason1  reason2  reaon3  reason4  month  week_day  \\\n",
       "0          0        0       0        1      7         2   \n",
       "1          0        0       0        0      7         2   \n",
       "2          0        0       0        1      7         3   \n",
       "3          1        0       0        1      7         4   \n",
       "4          0        0       0        1      7         4   \n",
       "..       ...      ...     ...      ...    ...       ...   \n",
       "695        1        0       0        1      5         3   \n",
       "696        1        0       0        1      5         3   \n",
       "697        1        0       0        1      5         4   \n",
       "698        0        0       0        1      5         4   \n",
       "699        0        0       0        1      5         4   \n",
       "\n",
       "     Transportation Expense  Distance to Work    Age  Daily Work Load Average  \\\n",
       "0                     1.006             0.413 -0.536                   -0.806   \n",
       "1                    -1.575            -1.142  2.131                   -0.806   \n",
       "2                    -0.654             1.427  0.248                   -0.806   \n",
       "3                     0.855            -1.683  0.405                   -0.806   \n",
       "4                     1.006             0.413 -0.536                   -0.806   \n",
       "..                      ...               ...    ...                      ...   \n",
       "695                  -0.654            -0.534  0.562                   -0.854   \n",
       "696                   0.040            -0.263 -1.320                   -0.854   \n",
       "697                   1.625            -0.939 -1.320                   -0.854   \n",
       "698                   0.191            -0.939 -0.693                   -0.854   \n",
       "699                   1.036             0.075  0.562                   -0.854   \n",
       "\n",
       "     Body Mass Index  Education  Children  Pets  Absenteeism Time in Hours  \n",
       "0              0.767          1         2     1                          4  \n",
       "1              1.003          1         1     0                          0  \n",
       "2              1.003          1         0     0                          2  \n",
       "3             -0.644          1         2     0                          4  \n",
       "4              0.767          1         2     1                          2  \n",
       "..               ...        ...       ...   ...                        ...  \n",
       "695           -1.114          0         2     0                          8  \n",
       "696           -0.644          1         1     2                          3  \n",
       "697           -0.409          0         0     0                          8  \n",
       "698           -0.409          0         0     0                          2  \n",
       "699           -0.409          1         1     1                          2  \n",
       "\n",
       "[700 rows x 15 columns]"
      ]
     },
     "execution_count": 5,
     "metadata": {},
     "output_type": "execute_result"
    }
   ],
   "source": [
    "df_preprocessed"
   ]
  },
  {
   "cell_type": "code",
   "execution_count": 9,
   "metadata": {},
   "outputs": [
    {
     "name": "stdout",
     "output_type": "stream",
     "text": [
      "     reason1  reason2  reaon3  reason4  month  week_day  \\\n",
      "0          0        0       0        1      7         2   \n",
      "1          0        0       0        0      7         2   \n",
      "2          0        0       0        1      7         3   \n",
      "3          1        0       0        1      7         4   \n",
      "4          0        0       0        1      7         4   \n",
      "..       ...      ...     ...      ...    ...       ...   \n",
      "695        1        0       0        1      5         3   \n",
      "696        1        0       0        1      5         3   \n",
      "697        1        0       0        1      5         4   \n",
      "698        0        0       0        1      5         4   \n",
      "699        0        0       0        1      5         4   \n",
      "\n",
      "     Transportation Expense  Distance to Work    Age  Daily Work Load Average  \\\n",
      "0                     1.006             0.413 -0.536                   -0.806   \n",
      "1                    -1.575            -1.142  2.131                   -0.806   \n",
      "2                    -0.654             1.427  0.248                   -0.806   \n",
      "3                     0.855            -1.683  0.405                   -0.806   \n",
      "4                     1.006             0.413 -0.536                   -0.806   \n",
      "..                      ...               ...    ...                      ...   \n",
      "695                  -0.654            -0.534  0.562                   -0.854   \n",
      "696                   0.040            -0.263 -1.320                   -0.854   \n",
      "697                   1.625            -0.939 -1.320                   -0.854   \n",
      "698                   0.191            -0.939 -0.693                   -0.854   \n",
      "699                   1.036             0.075  0.562                   -0.854   \n",
      "\n",
      "     Body Mass Index  Education  Children  Pets  Targets  \n",
      "0              0.767          1         2     1        1  \n",
      "1              1.003          1         1     0        0  \n",
      "2              1.003          1         0     0        0  \n",
      "3             -0.644          1         2     0        1  \n",
      "4              0.767          1         2     1        0  \n",
      "..               ...        ...       ...   ...      ...  \n",
      "695           -1.114          0         2     0        1  \n",
      "696           -0.644          1         1     2        0  \n",
      "697           -0.409          0         0     0        1  \n",
      "698           -0.409          0         0     0        0  \n",
      "699           -0.409          1         1     1        0  \n",
      "\n",
      "[700 rows x 15 columns]\n"
     ]
    }
   ],
   "source": [
    "df_preprocessed['Targets']=np.where(df_preprocessed[\"Absenteeism Time in Hours\"]>np.median(df_preprocessed['Absenteeism Time in Hours']),1,0) #define categorical target\n",
    "\n",
    "df_preprocessed=df_preprocessed.drop(\"Absenteeism Time in Hours\",axis=1) #drop original target as we are only concerned with the binary outcomes\n",
    "\n",
    "\n",
    "inputs=df_preprocessed.iloc[:,0:14] \n",
    "\n",
    "print(df_preprocessed)\n"
   ]
  },
  {
   "cell_type": "code",
   "execution_count": 10,
   "metadata": {},
   "outputs": [
    {
     "data": {
      "text/plain": [
       "array([0, 1])"
      ]
     },
     "execution_count": 10,
     "metadata": {},
     "output_type": "execute_result"
    }
   ],
   "source": [
    "\n",
    "targets=df_preprocessed['Targets']\n",
    "targets=np.array(targets)\n",
    "np.unique(targets)"
   ]
  },
  {
   "cell_type": "code",
   "execution_count": 12,
   "metadata": {},
   "outputs": [
    {
     "name": "stdout",
     "output_type": "stream",
     "text": [
      "(700, 14)\n",
      "(700,)\n"
     ]
    }
   ],
   "source": [
    "print(inputs.shape)\n",
    "print(targets.shape)"
   ]
  },
  {
   "cell_type": "markdown",
   "metadata": {},
   "source": [
    "Split the datset into training and testing part"
   ]
  },
  {
   "cell_type": "code",
   "execution_count": 13,
   "metadata": {},
   "outputs": [
    {
     "name": "stdout",
     "output_type": "stream",
     "text": [
      "(105, 14) (595, 14) \n",
      " (105,) (595,)\n",
      "(60, 14) (535, 14) \n",
      " (60,) (535,)\n"
     ]
    }
   ],
   "source": [
    "x_train,x_test,y_train,y_test=train_test_split(inputs,targets,train_size=0.85,random_state=10)\n",
    "print(x_test.shape,x_train.shape ,\"\\n\",y_test.shape,y_train.shape)\n",
    "x_train,x_val,y_train,y_val=train_test_split(x_train,y_train,train_size=0.9,random_state=10)\n",
    "print(x_val.shape,x_train.shape ,\"\\n\",y_val.shape,y_train.shape)"
   ]
  },
  {
   "cell_type": "markdown",
   "metadata": {},
   "source": [
    "I. USING LOGISTIC REGRESSION "
   ]
  },
  {
   "cell_type": "code",
   "execution_count": 15,
   "metadata": {},
   "outputs": [
    {
     "name": "stdout",
     "output_type": "stream",
     "text": [
      "score using builtin function: 0.7523809523809524\n",
      "\n",
      "checking manually\n",
      "\t\t\t\taccuracy_matrix\n",
      " [0 1 0 0 1 0 1 1 1 1 1 1 0 0 1 1 1 1 1 1 0 1 0 1 1 1 1 0 1 0 1 1 1 1 1 1 1\n",
      " 1 1 1 1 1 1 1 1 1 1 0 1 1 1 1 1 1 1 1 1 1 1 1 0 1 0 1 1 1 1 1 1 1 1 1 0 0\n",
      " 1 0 0 1 1 0 0 1 1 0 1 1 0 1 1 1 0 0 1 1 1 1 0 1 0 0 1 1 1 1 1]\n",
      "\n",
      "score: 0.7523809523809524\n"
     ]
    },
    {
     "name": "stderr",
     "output_type": "stream",
     "text": [
      "C:\\Users\\HP\\anaconda3\\lib\\site-packages\\sklearn\\linear_model\\_logistic.py:460: ConvergenceWarning: lbfgs failed to converge (status=1):\n",
      "STOP: TOTAL NO. of ITERATIONS REACHED LIMIT.\n",
      "\n",
      "Increase the number of iterations (max_iter) or scale the data as shown in:\n",
      "    https://scikit-learn.org/stable/modules/preprocessing.html\n",
      "Please also refer to the documentation for alternative solver options:\n",
      "    https://scikit-learn.org/stable/modules/linear_model.html#logistic-regression\n",
      "  n_iter_i = _check_optimize_result(\n"
     ]
    }
   ],
   "source": [
    "reg=LogisticRegression()\n",
    "reg.fit(x_train,y_train)\n",
    "print(\"score using builtin function:\",reg.score(x_test,y_test))\n",
    "print(\"\\nchecking manually\")\n",
    "predicted=reg.predict(x_test)\n",
    "accuracy_matrix=np.array([int(val) for val in predicted==y_test])\n",
    "print(\"\\t\\t\\t\\taccuracy_matrix\\n\",accuracy_matrix)\n",
    "print(\"\\nscore:\",sum(accuracy_matrix)/accuracy_matrix.shape[0])"
   ]
  },
  {
   "cell_type": "code",
   "execution_count": 88,
   "metadata": {},
   "outputs": [
    {
     "data": {
      "text/html": [
       "<div>\n",
       "<style scoped>\n",
       "    .dataframe tbody tr th:only-of-type {\n",
       "        vertical-align: middle;\n",
       "    }\n",
       "\n",
       "    .dataframe tbody tr th {\n",
       "        vertical-align: top;\n",
       "    }\n",
       "\n",
       "    .dataframe thead th {\n",
       "        text-align: right;\n",
       "    }\n",
       "</style>\n",
       "<table border=\"1\" class=\"dataframe\">\n",
       "  <thead>\n",
       "    <tr style=\"text-align: right;\">\n",
       "      <th></th>\n",
       "      <th>features</th>\n",
       "      <th>coef</th>\n",
       "    </tr>\n",
       "  </thead>\n",
       "  <tbody>\n",
       "    <tr>\n",
       "      <th>0</th>\n",
       "      <td>intercept</td>\n",
       "      <td>-3.305284</td>\n",
       "    </tr>\n",
       "    <tr>\n",
       "      <th>3</th>\n",
       "      <td>reason4</td>\n",
       "      <td>2.671289</td>\n",
       "    </tr>\n",
       "    <tr>\n",
       "      <th>2</th>\n",
       "      <td>reaon3</td>\n",
       "      <td>2.007978</td>\n",
       "    </tr>\n",
       "    <tr>\n",
       "      <th>0</th>\n",
       "      <td>reason1</td>\n",
       "      <td>1.901151</td>\n",
       "    </tr>\n",
       "    <tr>\n",
       "      <th>6</th>\n",
       "      <td>Transportation Expense</td>\n",
       "      <td>0.617478</td>\n",
       "    </tr>\n",
       "    <tr>\n",
       "      <th>12</th>\n",
       "      <td>Children</td>\n",
       "      <td>0.429931</td>\n",
       "    </tr>\n",
       "    <tr>\n",
       "      <th>13</th>\n",
       "      <td>Pets</td>\n",
       "      <td>-0.326842</td>\n",
       "    </tr>\n",
       "    <tr>\n",
       "      <th>8</th>\n",
       "      <td>Age</td>\n",
       "      <td>-0.256288</td>\n",
       "    </tr>\n",
       "    <tr>\n",
       "      <th>10</th>\n",
       "      <td>Body Mass Index</td>\n",
       "      <td>0.195481</td>\n",
       "    </tr>\n",
       "    <tr>\n",
       "      <th>1</th>\n",
       "      <td>reason2</td>\n",
       "      <td>0.189428</td>\n",
       "    </tr>\n",
       "    <tr>\n",
       "      <th>5</th>\n",
       "      <td>week_day</td>\n",
       "      <td>-0.140942</td>\n",
       "    </tr>\n",
       "    <tr>\n",
       "      <th>4</th>\n",
       "      <td>month</td>\n",
       "      <td>0.028455</td>\n",
       "    </tr>\n",
       "    <tr>\n",
       "      <th>9</th>\n",
       "      <td>Daily Work Load Average</td>\n",
       "      <td>-0.026723</td>\n",
       "    </tr>\n",
       "    <tr>\n",
       "      <th>7</th>\n",
       "      <td>Distance to Work</td>\n",
       "      <td>0.006145</td>\n",
       "    </tr>\n",
       "    <tr>\n",
       "      <th>11</th>\n",
       "      <td>Education</td>\n",
       "      <td>-0.004110</td>\n",
       "    </tr>\n",
       "  </tbody>\n",
       "</table>\n",
       "</div>"
      ],
      "text/plain": [
       "                   features      coef\n",
       "0                 intercept -3.305284\n",
       "3                   reason4  2.671289\n",
       "2                    reaon3  2.007978\n",
       "0                   reason1  1.901151\n",
       "6    Transportation Expense  0.617478\n",
       "12                 Children  0.429931\n",
       "13                     Pets -0.326842\n",
       "8                       Age -0.256288\n",
       "10          Body Mass Index  0.195481\n",
       "1                   reason2  0.189428\n",
       "5                  week_day -0.140942\n",
       "4                     month  0.028455\n",
       "9   Daily Work Load Average -0.026723\n",
       "7          Distance to Work  0.006145\n",
       "11                Education -0.004110"
      ]
     },
     "execution_count": 88,
     "metadata": {},
     "output_type": "execute_result"
    }
   ],
   "source": [
    "features=inputs.columns.values\n",
    "coefficents=reg.coef_[0]\n",
    "\n",
    "df_reg=pd.DataFrame({\"features\": features,\"coef\":coefficents})\n",
    "df_reg=pd.concat([df_reg,pd.DataFrame({\"features\":\"intercept\",\"coef\":reg.intercept_})],axis=0)\n",
    "df_reg['abs_coef']=df_reg['coef'].abs()\n",
    "df_reg=df_reg.sort_values(by=\"abs_coef\",ascending=False)\n",
    "df_reg=df_reg.drop('abs_coef',axis=1)\n",
    "df_reg\n"
   ]
  },
  {
   "cell_type": "markdown",
   "metadata": {},
   "source": [
    "II.USING NEURAL NETWORK"
   ]
  },
  {
   "cell_type": "code",
   "execution_count": 16,
   "metadata": {},
   "outputs": [],
   "source": [
    "import tensorflow\n"
   ]
  },
  {
   "cell_type": "code",
   "execution_count": 17,
   "metadata": {},
   "outputs": [],
   "source": [
    "input_size=14\n",
    "hidden_size=100\n",
    "output_size=1\n",
    "\n",
    "\n",
    "model=tensorflow.keras.Sequential([\n",
    "    tensorflow.keras.layers.Dense(hidden_size,activation='tanh'),\n",
    "    tensorflow.keras.layers.Dense(hidden_size,activation='tanh'),\n",
    "    \n",
    "    \n",
    "    tensorflow.keras.layers.Dense(output_size,activation='sigmoid')])\n",
    "optimizer=tensorflow.keras.optimizers.Adam(learning_rate=0.01,beta_1=0.9,beta_2=0.999)\n",
    "model.compile(loss='binary_crossentropy',optimizer=tensorflow.keras.optimizers.Adam(),metrics='accuracy')\n"
   ]
  },
  {
   "cell_type": "code",
   "execution_count": 18,
   "metadata": {},
   "outputs": [
    {
     "name": "stdout",
     "output_type": "stream",
     "text": [
      "Epoch 1/100\n",
      "6/6 [==============================] - 2s 69ms/step - loss: 0.6870 - accuracy: 0.5738 - val_loss: 0.6211 - val_accuracy: 0.6667\n",
      "Epoch 2/100\n",
      "6/6 [==============================] - 0s 10ms/step - loss: 0.6492 - accuracy: 0.6056 - val_loss: 0.5838 - val_accuracy: 0.7000\n",
      "Epoch 3/100\n",
      "6/6 [==============================] - 0s 11ms/step - loss: 0.6283 - accuracy: 0.6673 - val_loss: 0.5668 - val_accuracy: 0.7667\n",
      "Epoch 4/100\n",
      "6/6 [==============================] - 0s 17ms/step - loss: 0.6101 - accuracy: 0.6393 - val_loss: 0.5530 - val_accuracy: 0.7000\n",
      "Epoch 5/100\n",
      "6/6 [==============================] - 0s 18ms/step - loss: 0.5999 - accuracy: 0.6748 - val_loss: 0.5434 - val_accuracy: 0.7167\n",
      "Epoch 6/100\n",
      "6/6 [==============================] - 0s 16ms/step - loss: 0.5858 - accuracy: 0.6972 - val_loss: 0.5422 - val_accuracy: 0.7167\n",
      "Epoch 7/100\n",
      "6/6 [==============================] - 0s 13ms/step - loss: 0.5793 - accuracy: 0.7084 - val_loss: 0.5349 - val_accuracy: 0.7167\n",
      "Epoch 8/100\n",
      "6/6 [==============================] - 0s 9ms/step - loss: 0.5690 - accuracy: 0.7103 - val_loss: 0.5311 - val_accuracy: 0.7333\n",
      "Epoch 9/100\n",
      "6/6 [==============================] - 0s 20ms/step - loss: 0.5608 - accuracy: 0.7196 - val_loss: 0.5210 - val_accuracy: 0.7333\n",
      "Epoch 10/100\n",
      "6/6 [==============================] - 0s 16ms/step - loss: 0.5504 - accuracy: 0.7364 - val_loss: 0.5166 - val_accuracy: 0.7333\n",
      "Epoch 11/100\n",
      "6/6 [==============================] - 0s 16ms/step - loss: 0.5433 - accuracy: 0.7439 - val_loss: 0.5128 - val_accuracy: 0.7500\n",
      "Epoch 12/100\n",
      "6/6 [==============================] - 0s 15ms/step - loss: 0.5357 - accuracy: 0.7477 - val_loss: 0.5089 - val_accuracy: 0.7667\n",
      "Epoch 13/100\n",
      "6/6 [==============================] - 0s 14ms/step - loss: 0.5343 - accuracy: 0.7664 - val_loss: 0.5068 - val_accuracy: 0.7333\n",
      "Epoch 14/100\n",
      "6/6 [==============================] - 0s 19ms/step - loss: 0.5295 - accuracy: 0.7383 - val_loss: 0.5065 - val_accuracy: 0.7000\n",
      "Epoch 15/100\n",
      "6/6 [==============================] - 0s 21ms/step - loss: 0.5349 - accuracy: 0.7551 - val_loss: 0.5001 - val_accuracy: 0.7000\n",
      "Epoch 16/100\n",
      "6/6 [==============================] - 0s 16ms/step - loss: 0.5448 - accuracy: 0.7327 - val_loss: 0.4975 - val_accuracy: 0.7333\n",
      "Epoch 17/100\n",
      "6/6 [==============================] - 0s 15ms/step - loss: 0.5347 - accuracy: 0.7551 - val_loss: 0.5165 - val_accuracy: 0.7000\n",
      "Epoch 18/100\n",
      "6/6 [==============================] - 0s 16ms/step - loss: 0.5117 - accuracy: 0.7570 - val_loss: 0.5031 - val_accuracy: 0.7000\n"
     ]
    },
    {
     "data": {
      "text/plain": [
       "<keras.src.callbacks.History at 0x226ca866530>"
      ]
     },
     "execution_count": 18,
     "metadata": {},
     "output_type": "execute_result"
    }
   ],
   "source": [
    "\n",
    "batch_size = 100\n",
    "\n",
    "max_epochs = 100\n",
    "\n",
    "# setting  an early stopping mechanism\n",
    "# let's set patience=2, to be a bit tolerant against random validation loss increases\n",
    "early_stopping = tensorflow.keras.callbacks.EarlyStopping(patience=2)\n",
    "\n",
    "# fit the model\n",
    "\n",
    "model.fit(x_train, # train inputs\n",
    "          y_train, # train targets\n",
    "          batch_size=batch_size, # batch size\n",
    "          epochs=max_epochs, # epochs that we will train for (assuming early stopping doesn't kick in)\n",
    "          callbacks=[early_stopping], # early stopping \n",
    "          validation_data=(x_val, y_val), # validation data\n",
    "          #verbose = 1 # making sure we get enough information about the training process\n",
    "          )  "
   ]
  },
  {
   "cell_type": "code",
   "execution_count": 19,
   "metadata": {},
   "outputs": [
    {
     "name": "stdout",
     "output_type": "stream",
     "text": [
      "4/4 [==============================] - 0s 3ms/step - loss: 0.5188 - accuracy: 0.7333\n",
      "accuracy = 0.7333333492279053\n"
     ]
    }
   ],
   "source": [
    "loss,accuracy=model.evaluate(x_test,y_test)\n",
    "print(\"accuracy =\",accuracy)"
   ]
  },
  {
   "cell_type": "markdown",
   "metadata": {},
   "source": [
    "III.USING RANDOM FOREST CLASSIFIER"
   ]
  },
  {
   "cell_type": "code",
   "execution_count": 23,
   "metadata": {},
   "outputs": [],
   "source": [
    "from sklearn.ensemble import RandomForestClassifier\n"
   ]
  },
  {
   "cell_type": "code",
   "execution_count": 24,
   "metadata": {},
   "outputs": [],
   "source": [
    "clf=RandomForestClassifier(n_estimators=100,random_state=42)\n",
    "model=clf.fit(x_train,y_train)"
   ]
  },
  {
   "cell_type": "code",
   "execution_count": 26,
   "metadata": {},
   "outputs": [
    {
     "name": "stdout",
     "output_type": "stream",
     "text": [
      "[0 1 0 0 1 0 1 0 1 0 1 1 1 1 1 1 1 1 0 1 0 1 1 1 1 1 1 1 1 1 1 1 1 1 1 1 0\n",
      " 1 1 0 1 1 1 1 1 1 1 0 1 1 1 1 0 1 1 1 1 1 0 1 1 1 0 1 1 1 1 1 1 1 1 1 0 0\n",
      " 1 0 0 1 1 0 1 1 1 0 1 1 1 1 1 1 0 0 1 1 1 1 1 1 1 1 1 1 0 1 1]\n",
      "0.780952380952381\n"
     ]
    }
   ],
   "source": [
    "outputs=model.predict(x_test)\n",
    "#print(outputs)\n",
    "accuracy_matrix=outputs==y_test\n",
    "print(np.array([int(value) for value in accuracy_matrix]))\n",
    "\n",
    "accuracy=sum(accuracy_matrix)/len(accuracy_matrix)\n",
    "print(accuracy)"
   ]
  }
 ],
 "metadata": {
  "kernelspec": {
   "display_name": "Python 3 (ipykernel)",
   "language": "python",
   "name": "python3"
  },
  "language_info": {
   "codemirror_mode": {
    "name": "ipython",
    "version": 3
   },
   "file_extension": ".py",
   "mimetype": "text/x-python",
   "name": "python",
   "nbconvert_exporter": "python",
   "pygments_lexer": "ipython3",
   "version": "3.10.9"
  }
 },
 "nbformat": 4,
 "nbformat_minor": 2
}
